{
 "cells": [
  {
   "cell_type": "markdown",
   "metadata": {},
   "source": [
    "## 1b"
   ]
  },
  {
   "cell_type": "code",
   "execution_count": 54,
   "metadata": {},
   "outputs": [],
   "source": [
    "import pandas as pd\n",
    "import matplotlib.pyplot as plt\n",
    "import seaborn as sns\n",
    "import numpy as np"
   ]
  },
  {
   "cell_type": "code",
   "execution_count": 3,
   "metadata": {},
   "outputs": [
    {
     "data": {
      "text/html": [
       "<div>\n",
       "<style scoped>\n",
       "    .dataframe tbody tr th:only-of-type {\n",
       "        vertical-align: middle;\n",
       "    }\n",
       "\n",
       "    .dataframe tbody tr th {\n",
       "        vertical-align: top;\n",
       "    }\n",
       "\n",
       "    .dataframe thead th {\n",
       "        text-align: right;\n",
       "    }\n",
       "</style>\n",
       "<table border=\"1\" class=\"dataframe\">\n",
       "  <thead>\n",
       "    <tr style=\"text-align: right;\">\n",
       "      <th></th>\n",
       "      <th>rank</th>\n",
       "      <th>size</th>\n",
       "      <th>n_sims</th>\n",
       "      <th>time</th>\n",
       "    </tr>\n",
       "  </thead>\n",
       "  <tbody>\n",
       "    <tr>\n",
       "      <th>0</th>\n",
       "      <td>0</td>\n",
       "      <td>1</td>\n",
       "      <td>1000</td>\n",
       "      <td>0.361401</td>\n",
       "    </tr>\n",
       "    <tr>\n",
       "      <th>1</th>\n",
       "      <td>1</td>\n",
       "      <td>2</td>\n",
       "      <td>500</td>\n",
       "      <td>0.160702</td>\n",
       "    </tr>\n",
       "    <tr>\n",
       "      <th>2</th>\n",
       "      <td>0</td>\n",
       "      <td>2</td>\n",
       "      <td>500</td>\n",
       "      <td>0.159851</td>\n",
       "    </tr>\n",
       "    <tr>\n",
       "      <th>3</th>\n",
       "      <td>1</td>\n",
       "      <td>3</td>\n",
       "      <td>333</td>\n",
       "      <td>0.107450</td>\n",
       "    </tr>\n",
       "    <tr>\n",
       "      <th>4</th>\n",
       "      <td>0</td>\n",
       "      <td>3</td>\n",
       "      <td>333</td>\n",
       "      <td>0.106985</td>\n",
       "    </tr>\n",
       "  </tbody>\n",
       "</table>\n",
       "</div>"
      ],
      "text/plain": [
       "   rank  size  n_sims      time\n",
       "0     0     1    1000  0.361401\n",
       "1     1     2     500  0.160702\n",
       "2     0     2     500  0.159851\n",
       "3     1     3     333  0.107450\n",
       "4     0     3     333  0.106985"
      ]
     },
     "execution_count": 3,
     "metadata": {},
     "output_type": "execute_result"
    }
   ],
   "source": [
    "sims_cores = pd.read_csv('mpi_health_sim.out', sep=' ', names=['rank','size','n_sims','time (s)'])\n",
    "sims_cores.head()"
   ]
  },
  {
   "cell_type": "code",
   "execution_count": 19,
   "metadata": {},
   "outputs": [
    {
     "data": {
      "image/png": "[encoded data removed]",
      "text/plain": [
       "<Figure size 720x720 with 1 Axes>"
      ]
     },
     "metadata": {
      "needs_background": "light"
     },
     "output_type": "display_data"
    }
   ],
   "source": [
    "f, ax = plt.subplots(1,1,figsize=(10,10))\n",
    "\n",
    "sns.scatterplot(x=sims_cores['size'], y=sims_cores['time'])\n",
    "plt.ylabel('Time to Complete (s)')\n",
    "plt.xlabel('Number of Cores')\n",
    "plt.title('Time to Simulate 1000 Lifecycles by Number of Cores')\n",
    "\n",
    "plt.savefig('simtime_cores.png',dpi=200)"
   ]
  },
  {
   "cell_type": "markdown",
   "metadata": {},
   "source": [
    "## 2a"
   ]
  },
  {
   "cell_type": "code",
   "execution_count": 16,
   "metadata": {},
   "outputs": [
    {
     "data": {
      "text/html": [
       "<div>\n",
       "<style scoped>\n",
       "    .dataframe tbody tr th:only-of-type {\n",
       "        vertical-align: middle;\n",
       "    }\n",
       "\n",
       "    .dataframe tbody tr th {\n",
       "        vertical-align: top;\n",
       "    }\n",
       "\n",
       "    .dataframe thead th {\n",
       "        text-align: right;\n",
       "    }\n",
       "</style>\n",
       "<table border=\"1\" class=\"dataframe\">\n",
       "  <thead>\n",
       "    <tr style=\"text-align: right;\">\n",
       "      <th></th>\n",
       "      <th>temp</th>\n",
       "    </tr>\n",
       "  </thead>\n",
       "  <tbody>\n",
       "    <tr>\n",
       "      <th>0</th>\n",
       "      <td>6 10 1000 1.6105499267578125</td>\n",
       "    </tr>\n",
       "    <tr>\n",
       "      <th>1</th>\n",
       "      <td>[[1.95728643e-01 1.08757000e+03]</td>\n",
       "    </tr>\n",
       "    <tr>\n",
       "      <th>2</th>\n",
       "      <td>[2.05276382e-01 1.05058000e+03]</td>\n",
       "    </tr>\n",
       "    <tr>\n",
       "      <th>3</th>\n",
       "      <td>[2.14824121e-01 1.04826300e+03]</td>\n",
       "    </tr>\n",
       "    <tr>\n",
       "      <th>4</th>\n",
       "      <td>[2.24371859e-01 1.03635100e+03]</td>\n",
       "    </tr>\n",
       "    <tr>\n",
       "      <th>...</th>\n",
       "      <td>...</td>\n",
       "    </tr>\n",
       "    <tr>\n",
       "      <th>205</th>\n",
       "      <td>[  0.72085427  52.816     ]</td>\n",
       "    </tr>\n",
       "    <tr>\n",
       "      <th>206</th>\n",
       "      <td>[  0.73040201  49.613     ]</td>\n",
       "    </tr>\n",
       "    <tr>\n",
       "      <th>207</th>\n",
       "      <td>[  0.73994975  46.837     ]</td>\n",
       "    </tr>\n",
       "    <tr>\n",
       "      <th>208</th>\n",
       "      <td>[  0.74949749  44.18      ]</td>\n",
       "    </tr>\n",
       "    <tr>\n",
       "      <th>209</th>\n",
       "      <td>[  0.75904523  40.72      ]]</td>\n",
       "    </tr>\n",
       "  </tbody>\n",
       "</table>\n",
       "<p>210 rows × 1 columns</p>\n",
       "</div>"
      ],
      "text/plain": [
       "                                 temp\n",
       "0        6 10 1000 1.6105499267578125\n",
       "1    [[1.95728643e-01 1.08757000e+03]\n",
       "2     [2.05276382e-01 1.05058000e+03]\n",
       "3     [2.14824121e-01 1.04826300e+03]\n",
       "4     [2.24371859e-01 1.03635100e+03]\n",
       "..                                ...\n",
       "205       [  0.72085427  52.816     ]\n",
       "206       [  0.73040201  49.613     ]\n",
       "207       [  0.73994975  46.837     ]\n",
       "208       [  0.74949749  44.18      ]\n",
       "209      [  0.75904523  40.72      ]]\n",
       "\n",
       "[210 rows x 1 columns]"
      ]
     },
     "execution_count": 16,
     "metadata": {},
     "output_type": "execute_result"
    }
   ],
   "source": [
    "rho_sims = pd.read_csv('mpi_rho_tests_numbacc.out',names=['temp'])\n",
    "rho_sims"
   ]
  },
  {
   "cell_type": "code",
   "execution_count": 48,
   "metadata": {},
   "outputs": [
    {
     "data": {
      "text/html": [
       "<div>\n",
       "<style scoped>\n",
       "    .dataframe tbody tr th:only-of-type {\n",
       "        vertical-align: middle;\n",
       "    }\n",
       "\n",
       "    .dataframe tbody tr th {\n",
       "        vertical-align: top;\n",
       "    }\n",
       "\n",
       "    .dataframe thead th {\n",
       "        text-align: right;\n",
       "    }\n",
       "</style>\n",
       "<table border=\"1\" class=\"dataframe\">\n",
       "  <thead>\n",
       "    <tr style=\"text-align: right;\">\n",
       "      <th></th>\n",
       "      <th>rank</th>\n",
       "      <th>size</th>\n",
       "      <th>num_lives</th>\n",
       "      <th>time_elapsed</th>\n",
       "    </tr>\n",
       "  </thead>\n",
       "  <tbody>\n",
       "  </tbody>\n",
       "</table>\n",
       "</div>"
      ],
      "text/plain": [
       "Empty DataFrame\n",
       "Columns: [rank, size, num_lives, time_elapsed]\n",
       "Index: []"
      ]
     },
     "execution_count": 48,
     "metadata": {},
     "output_type": "execute_result"
    }
   ],
   "source": [
    "rho_poor_health_min_times = pd.DataFrame(columns=['rho','min_poor_health_period'])\n",
    "core_details = pd.DataFrame(columns=['rank','size','num_lives','time_elapsed'])\n",
    "core_details"
   ]
  },
  {
   "cell_type": "code",
   "execution_count": 49,
   "metadata": {},
   "outputs": [
    {
     "name": "stdout",
     "output_type": "stream",
     "text": [
      "['6', '10', '1000', '1.6105499267578125']\n",
      "['5', '10', '1000', '1.6155781745910645']\n",
      "['0', '10', '1000', '1.6193416118621826']\n",
      "['1', '10', '1000', '1.6186425685882568']\n",
      "['2', '10', '1000', '1.6229562759399414']\n",
      "['7', '10', '1000', '1.649947166442871']\n",
      "['4', '10', '1000', '1.6551249027252197']\n",
      "['9', '10', '1000', '1.661433219909668']\n",
      "['3', '10', '1000', '1.661792516708374']\n",
      "['8', '10', '1000', '1.6621551513671875']\n"
     ]
    }
   ],
   "source": [
    "for idx, row in rho_sims.iterrows():\n",
    "    row = row[0].strip()\n",
    "    if row[0] == '[':\n",
    "        vals = row.strip('[').strip(']')\n",
    "        vals = vals.split()\n",
    "        #print(vals)\n",
    "        rho = float(vals[0].strip())\n",
    "        period = float(vals[1].strip())\n",
    "        vals_df = pd.DataFrame({'rho':rho, 'min_poor_health_period':period},index=[idx])\n",
    "        #print(vals_df)\n",
    "        rho_poor_health_min_times = rho_poor_health_min_times.append(vals_df)\n",
    "    else:\n",
    "        vals = row.split()\n",
    "        print(vals)\n",
    "        rank = int(vals[0])\n",
    "        size = int(vals[1])\n",
    "        num_lives = int(vals[2])\n",
    "        time_elapsed = float(vals[3])\n",
    "        vals_df = pd.DataFrame({'rank':rank, 'size':size, 'num_lives':num_lives,\\\n",
    "            'time_elapsed':time_elapsed}, index=[idx])\n",
    "        core_details = core_details.append(vals_df)"
   ]
  },
  {
   "cell_type": "code",
   "execution_count": 50,
   "metadata": {},
   "outputs": [
    {
     "data": {
      "text/html": [
       "<div>\n",
       "<style scoped>\n",
       "    .dataframe tbody tr th:only-of-type {\n",
       "        vertical-align: middle;\n",
       "    }\n",
       "\n",
       "    .dataframe tbody tr th {\n",
       "        vertical-align: top;\n",
       "    }\n",
       "\n",
       "    .dataframe thead th {\n",
       "        text-align: right;\n",
       "    }\n",
       "</style>\n",
       "<table border=\"1\" class=\"dataframe\">\n",
       "  <thead>\n",
       "    <tr style=\"text-align: right;\">\n",
       "      <th></th>\n",
       "      <th>rho</th>\n",
       "      <th>min_poor_health_period</th>\n",
       "    </tr>\n",
       "  </thead>\n",
       "  <tbody>\n",
       "    <tr>\n",
       "      <th>1</th>\n",
       "      <td>0.195729</td>\n",
       "      <td>1087.570</td>\n",
       "    </tr>\n",
       "    <tr>\n",
       "      <th>2</th>\n",
       "      <td>0.205276</td>\n",
       "      <td>1050.580</td>\n",
       "    </tr>\n",
       "    <tr>\n",
       "      <th>3</th>\n",
       "      <td>0.214824</td>\n",
       "      <td>1048.263</td>\n",
       "    </tr>\n",
       "    <tr>\n",
       "      <th>4</th>\n",
       "      <td>0.224372</td>\n",
       "      <td>1036.351</td>\n",
       "    </tr>\n",
       "    <tr>\n",
       "      <th>5</th>\n",
       "      <td>0.233920</td>\n",
       "      <td>1002.056</td>\n",
       "    </tr>\n",
       "    <tr>\n",
       "      <th>...</th>\n",
       "      <td>...</td>\n",
       "      <td>...</td>\n",
       "    </tr>\n",
       "    <tr>\n",
       "      <th>205</th>\n",
       "      <td>0.720854</td>\n",
       "      <td>52.816</td>\n",
       "    </tr>\n",
       "    <tr>\n",
       "      <th>206</th>\n",
       "      <td>0.730402</td>\n",
       "      <td>49.613</td>\n",
       "    </tr>\n",
       "    <tr>\n",
       "      <th>207</th>\n",
       "      <td>0.739950</td>\n",
       "      <td>46.837</td>\n",
       "    </tr>\n",
       "    <tr>\n",
       "      <th>208</th>\n",
       "      <td>0.749497</td>\n",
       "      <td>44.180</td>\n",
       "    </tr>\n",
       "    <tr>\n",
       "      <th>209</th>\n",
       "      <td>0.759045</td>\n",
       "      <td>40.720</td>\n",
       "    </tr>\n",
       "  </tbody>\n",
       "</table>\n",
       "<p>200 rows × 2 columns</p>\n",
       "</div>"
      ],
      "text/plain": [
       "          rho  min_poor_health_period\n",
       "1    0.195729                1087.570\n",
       "2    0.205276                1050.580\n",
       "3    0.214824                1048.263\n",
       "4    0.224372                1036.351\n",
       "5    0.233920                1002.056\n",
       "..        ...                     ...\n",
       "205  0.720854                  52.816\n",
       "206  0.730402                  49.613\n",
       "207  0.739950                  46.837\n",
       "208  0.749497                  44.180\n",
       "209  0.759045                  40.720\n",
       "\n",
       "[200 rows x 2 columns]"
      ]
     },
     "execution_count": 50,
     "metadata": {},
     "output_type": "execute_result"
    }
   ],
   "source": [
    "rho_poor_health_min_times"
   ]
  },
  {
   "cell_type": "code",
   "execution_count": 51,
   "metadata": {},
   "outputs": [
    {
     "data": {
      "text/html": [
       "<div>\n",
       "<style scoped>\n",
       "    .dataframe tbody tr th:only-of-type {\n",
       "        vertical-align: middle;\n",
       "    }\n",
       "\n",
       "    .dataframe tbody tr th {\n",
       "        vertical-align: top;\n",
       "    }\n",
       "\n",
       "    .dataframe thead th {\n",
       "        text-align: right;\n",
       "    }\n",
       "</style>\n",
       "<table border=\"1\" class=\"dataframe\">\n",
       "  <thead>\n",
       "    <tr style=\"text-align: right;\">\n",
       "      <th></th>\n",
       "      <th>rank</th>\n",
       "      <th>size</th>\n",
       "      <th>num_lives</th>\n",
       "      <th>time_elapsed</th>\n",
       "    </tr>\n",
       "  </thead>\n",
       "  <tbody>\n",
       "    <tr>\n",
       "      <th>0</th>\n",
       "      <td>6</td>\n",
       "      <td>10</td>\n",
       "      <td>1000</td>\n",
       "      <td>1.610550</td>\n",
       "    </tr>\n",
       "    <tr>\n",
       "      <th>21</th>\n",
       "      <td>5</td>\n",
       "      <td>10</td>\n",
       "      <td>1000</td>\n",
       "      <td>1.615578</td>\n",
       "    </tr>\n",
       "    <tr>\n",
       "      <th>42</th>\n",
       "      <td>0</td>\n",
       "      <td>10</td>\n",
       "      <td>1000</td>\n",
       "      <td>1.619342</td>\n",
       "    </tr>\n",
       "    <tr>\n",
       "      <th>63</th>\n",
       "      <td>1</td>\n",
       "      <td>10</td>\n",
       "      <td>1000</td>\n",
       "      <td>1.618643</td>\n",
       "    </tr>\n",
       "    <tr>\n",
       "      <th>84</th>\n",
       "      <td>2</td>\n",
       "      <td>10</td>\n",
       "      <td>1000</td>\n",
       "      <td>1.622956</td>\n",
       "    </tr>\n",
       "    <tr>\n",
       "      <th>105</th>\n",
       "      <td>7</td>\n",
       "      <td>10</td>\n",
       "      <td>1000</td>\n",
       "      <td>1.649947</td>\n",
       "    </tr>\n",
       "    <tr>\n",
       "      <th>126</th>\n",
       "      <td>4</td>\n",
       "      <td>10</td>\n",
       "      <td>1000</td>\n",
       "      <td>1.655125</td>\n",
       "    </tr>\n",
       "    <tr>\n",
       "      <th>147</th>\n",
       "      <td>9</td>\n",
       "      <td>10</td>\n",
       "      <td>1000</td>\n",
       "      <td>1.661433</td>\n",
       "    </tr>\n",
       "    <tr>\n",
       "      <th>168</th>\n",
       "      <td>3</td>\n",
       "      <td>10</td>\n",
       "      <td>1000</td>\n",
       "      <td>1.661793</td>\n",
       "    </tr>\n",
       "    <tr>\n",
       "      <th>189</th>\n",
       "      <td>8</td>\n",
       "      <td>10</td>\n",
       "      <td>1000</td>\n",
       "      <td>1.662155</td>\n",
       "    </tr>\n",
       "  </tbody>\n",
       "</table>\n",
       "</div>"
      ],
      "text/plain": [
       "    rank size num_lives  time_elapsed\n",
       "0      6   10      1000      1.610550\n",
       "21     5   10      1000      1.615578\n",
       "42     0   10      1000      1.619342\n",
       "63     1   10      1000      1.618643\n",
       "84     2   10      1000      1.622956\n",
       "105    7   10      1000      1.649947\n",
       "126    4   10      1000      1.655125\n",
       "147    9   10      1000      1.661433\n",
       "168    3   10      1000      1.661793\n",
       "189    8   10      1000      1.662155"
      ]
     },
     "execution_count": 51,
     "metadata": {},
     "output_type": "execute_result"
    }
   ],
   "source": [
    "core_details"
   ]
  },
  {
   "cell_type": "code",
   "execution_count": 55,
   "metadata": {},
   "outputs": [
    {
     "data": {
      "text/plain": [
       "1.637752151489258"
      ]
     },
     "execution_count": 55,
     "metadata": {},
     "output_type": "execute_result"
    }
   ],
   "source": [
    "np.mean(core_details['time_elapsed'])"
   ]
  },
  {
   "cell_type": "markdown",
   "metadata": {},
   "source": [
    "## 2b"
   ]
  },
  {
   "cell_type": "code",
   "execution_count": 59,
   "metadata": {},
   "outputs": [
    {
     "data": {
      "image/png": "[encoded data removed]",
      "text/plain": [
       "<Figure size 720x720 with 1 Axes>"
      ]
     },
     "metadata": {
      "needs_background": "light"
     },
     "output_type": "display_data"
    }
   ],
   "source": [
    "f, ax = plt.subplots(1,1,figsize=(10,10))\n",
    "\n",
    "sns.scatterplot(x=rho_poor_health_min_times['rho'],y=rho_poor_health_min_times['min_poor_health_period'])\n",
    "plt.ylabel('Minimum Period to Reach Negative Health (max 4160 periods)')\n",
    "plt.xlabel('Persistence')\n",
    "plt.title('Earliest Time to Reach Poor Health by Persistence')\n",
    "\n",
    "plt.savefig('rho_tests.png',dpi=200)\n"
   ]
  },
  {
   "cell_type": "code",
   "execution_count": 60,
   "metadata": {},
   "outputs": [
    {
     "data": {
      "text/html": [
       "<div>\n",
       "<style scoped>\n",
       "    .dataframe tbody tr th:only-of-type {\n",
       "        vertical-align: middle;\n",
       "    }\n",
       "\n",
       "    .dataframe tbody tr th {\n",
       "        vertical-align: top;\n",
       "    }\n",
       "\n",
       "    .dataframe thead th {\n",
       "        text-align: right;\n",
       "    }\n",
       "</style>\n",
       "<table border=\"1\" class=\"dataframe\">\n",
       "  <thead>\n",
       "    <tr style=\"text-align: right;\">\n",
       "      <th></th>\n",
       "      <th>rho</th>\n",
       "      <th>min_poor_health_period</th>\n",
       "    </tr>\n",
       "  </thead>\n",
       "  <tbody>\n",
       "    <tr>\n",
       "      <th>167</th>\n",
       "      <td>0.950000</td>\n",
       "      <td>5.087</td>\n",
       "    </tr>\n",
       "    <tr>\n",
       "      <th>43</th>\n",
       "      <td>-0.950000</td>\n",
       "      <td>5.676</td>\n",
       "    </tr>\n",
       "    <tr>\n",
       "      <th>166</th>\n",
       "      <td>0.940452</td>\n",
       "      <td>5.755</td>\n",
       "    </tr>\n",
       "    <tr>\n",
       "      <th>44</th>\n",
       "      <td>-0.940452</td>\n",
       "      <td>6.382</td>\n",
       "    </tr>\n",
       "    <tr>\n",
       "      <th>165</th>\n",
       "      <td>0.930905</td>\n",
       "      <td>6.552</td>\n",
       "    </tr>\n",
       "    <tr>\n",
       "      <th>...</th>\n",
       "      <td>...</td>\n",
       "      <td>...</td>\n",
       "    </tr>\n",
       "    <tr>\n",
       "      <th>144</th>\n",
       "      <td>-0.023869</td>\n",
       "      <td>1424.857</td>\n",
       "    </tr>\n",
       "    <tr>\n",
       "      <th>23</th>\n",
       "      <td>0.014322</td>\n",
       "      <td>1434.480</td>\n",
       "    </tr>\n",
       "    <tr>\n",
       "      <th>22</th>\n",
       "      <td>0.004774</td>\n",
       "      <td>1437.802</td>\n",
       "    </tr>\n",
       "    <tr>\n",
       "      <th>145</th>\n",
       "      <td>-0.014322</td>\n",
       "      <td>1440.653</td>\n",
       "    </tr>\n",
       "    <tr>\n",
       "      <th>146</th>\n",
       "      <td>-0.004774</td>\n",
       "      <td>1456.027</td>\n",
       "    </tr>\n",
       "  </tbody>\n",
       "</table>\n",
       "<p>200 rows × 2 columns</p>\n",
       "</div>"
      ],
      "text/plain": [
       "          rho  min_poor_health_period\n",
       "167  0.950000                   5.087\n",
       "43  -0.950000                   5.676\n",
       "166  0.940452                   5.755\n",
       "44  -0.940452                   6.382\n",
       "165  0.930905                   6.552\n",
       "..        ...                     ...\n",
       "144 -0.023869                1424.857\n",
       "23   0.014322                1434.480\n",
       "22   0.004774                1437.802\n",
       "145 -0.014322                1440.653\n",
       "146 -0.004774                1456.027\n",
       "\n",
       "[200 rows x 2 columns]"
      ]
     },
     "execution_count": 60,
     "metadata": {},
     "output_type": "execute_result"
    }
   ],
   "source": [
    "rho_poor_health_min_times.sort_values(by='min_poor_health_period')"
   ]
  }
 ],
 "metadata": {
  "interpreter": {
   "hash": "0a9072e8719e8ee4cfad44eb54e27d7ad2a6ea443d13a6a9b71567ab4268335d"
  },
  "kernelspec": {
   "display_name": "Python 3.9.6 64-bit ('base': conda)",
   "name": "python3"
  },
  "language_info": {
   "codemirror_mode": {
    "name": "ipython",
    "version": 3
   },
   "file_extension": ".py",
   "mimetype": "text/x-python",
   "name": "python",
   "nbconvert_exporter": "python",
   "pygments_lexer": "ipython3",
   "version": "3.9.6"
  },
  "orig_nbformat": 4
 },
 "nbformat": 4,
 "nbformat_minor": 2
}
